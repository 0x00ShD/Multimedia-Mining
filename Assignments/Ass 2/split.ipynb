{
 "cells": [
  {
   "cell_type": "code",
   "execution_count": 173,
   "metadata": {},
   "outputs": [],
   "source": [
    "import os\n",
    "import shutil"
   ]
  },
  {
   "cell_type": "code",
   "execution_count": 174,
   "metadata": {},
   "outputs": [],
   "source": [
    "dataset_dir = r\"archive/PetImages/\"\n",
    "train_dir = \"path/to/train\"\n",
    "test_dir = \"path/to/test\""
   ]
  },
  {
   "cell_type": "code",
   "execution_count": 175,
   "metadata": {},
   "outputs": [],
   "source": [
    "# Create train and test directories\n",
    "os.makedirs(train_dir, exist_ok=True)\n",
    "os.makedirs(test_dir, exist_ok=True)"
   ]
  },
  {
   "cell_type": "code",
   "execution_count": 176,
   "metadata": {},
   "outputs": [],
   "source": [
    "# Function to move images\n",
    "def move_images(source_dir, dest_dir, num_images):\n",
    "    images = os.listdir(source_dir)[:num_images]\n",
    "    for image in images:\n",
    "        shutil.copy(os.path.join(source_dir, image), dest_dir)"
   ]
  },
  {
   "cell_type": "code",
   "execution_count": 178,
   "metadata": {},
   "outputs": [],
   "source": [
    "# Move images for training\n",
    "dogs_train_source = os.path.join(dataset_dir, \"Dog\")\n",
    "cats_train_source = os.path.join(dataset_dir, \"Cat\")\n",
    "dogs_train_dest = os.path.join(train_dir, \"Dog\")\n",
    "cats_train_dest = os.path.join(train_dir, \"Cat\")\n",
    "\n",
    "os.makedirs(dogs_train_dest, exist_ok=True)\n",
    "os.makedirs(cats_train_dest, exist_ok=True)\n",
    "\n",
    "move_images(dogs_train_source, dogs_train_dest, 1000)\n",
    "move_images(cats_train_source, cats_train_dest, 1000)\n"
   ]
  },
  {
   "cell_type": "code",
   "execution_count": 180,
   "metadata": {},
   "outputs": [],
   "source": [
    "# Move images for testing\n",
    "dogs_test_source = os.path.join(dataset_dir, \"Dog\")\n",
    "cats_test_source = os.path.join(dataset_dir, \"Cat\")\n",
    "dogs_test_dest = os.path.join(test_dir, \"Dog\")\n",
    "cats_test_dest = os.path.join(test_dir, \"Cat\")\n",
    "\n",
    "os.makedirs(dogs_test_dest, exist_ok=True)\n",
    "os.makedirs(cats_test_dest, exist_ok=True)\n",
    "\n",
    "move_images(dogs_test_source, dogs_test_dest, 500)\n",
    "move_images(cats_test_source, cats_test_dest, 500)"
   ]
  }
 ],
 "metadata": {
  "kernelspec": {
   "display_name": "Python 3",
   "language": "python",
   "name": "python3"
  },
  "language_info": {
   "codemirror_mode": {
    "name": "ipython",
    "version": 3
   },
   "file_extension": ".py",
   "mimetype": "text/x-python",
   "name": "python",
   "nbconvert_exporter": "python",
   "pygments_lexer": "ipython3",
   "version": "3.11.6"
  }
 },
 "nbformat": 4,
 "nbformat_minor": 2
}
