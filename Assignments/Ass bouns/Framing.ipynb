{
  "nbformat": 4,
  "nbformat_minor": 0,
  "metadata": {
    "colab": {
      "provenance": [],
      "gpuType": "V28"
    },
    "kernelspec": {
      "name": "python3",
      "display_name": "Python 3"
    },
    "language_info": {
      "name": "python"
    },
    "accelerator": "TPU"
  },
  "cells": [
    {
      "cell_type": "code",
      "source": [
        "import scipy.io.wavfile as wave\n",
        "import numpy as np\n",
        "from scipy.io.wavfile import write\n",
        "import matplotlib.pyplot as plt\n",
        "\n",
        "# Read the wave file\n",
        "samplerate, data = wave.read('/content/stomping.wav')\n",
        "\n",
        "# Get data size (number of samples)\n",
        "data_size = len(data)\n",
        "\n",
        "# Get data size in bits\n",
        "data_size_bits = data.dtype.itemsize * 8\n",
        "\n",
        "# Calculate bit rate\n",
        "bit_rate = samplerate * data_size_bits\n",
        "\n",
        "# Calculate bits per sample\n",
        "bits_per_sample = data_size_bits / len(data[0])\n",
        "\n",
        "# Type of recording\n",
        "# Assuming it's mono or stereo\n",
        "recording_type = \"Stereo\" if len(data[0]) == 2 else \"Mono\"\n",
        "\n",
        "# Print calculated values\n",
        "print(\"Data size:\", data_size, \"samples\")\n",
        "print(\"Data size in bits:\", data_size_bits)\n",
        "print(\"Bit rate:\", bit_rate, \"bps\")\n",
        "print(\"Bits per sample:\", bits_per_sample)\n",
        "print(\"Type of recording:\", recording_type)\n",
        "print(\"Sampling rate:\", samplerate, \"Hz\")\n",
        "\n",
        "# Reverse the audio\n",
        "reversed_data = np.flip(data)\n",
        "\n",
        "# Write the reversed audio to a new WAV file\n",
        "output_file = 'reversed_audio.wav'\n",
        "wave.write(output_file, samplerate, reversed_data)"
      ],
      "metadata": {
        "colab": {
          "base_uri": "https://localhost:8080/"
        },
        "id": "yH0ssARABGlz",
        "outputId": "676de5e4-e78b-4acb-ce51-391d7c79e9dd"
      },
      "execution_count": null,
      "outputs": [
        {
          "output_type": "stream",
          "name": "stdout",
          "text": [
            "Data size: 5253120 samples\n",
            "Data size in bits: 16\n",
            "Bit rate: 705600 bps\n",
            "Bits per sample: 2.6666666666666665\n",
            "Type of recording: Mono\n",
            "Sampling rate: 44100 Hz\n"
          ]
        }
      ]
    }
  ]
}